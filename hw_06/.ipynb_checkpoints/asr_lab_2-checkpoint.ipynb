{
 "cells": [
  {
   "cell_type": "markdown",
   "metadata": {
    "id": "elK2Q3YHALZc"
   },
   "source": [
    "# Практика №2\n",
    "\n",
    "На прошлой практике мы реализовали DTW алгоритм. Он очень хорош и вроде как даже где-то применяется. Но у него есть существенные недостатки:\n",
    "\n",
    "1) Для распознавания какого-либо слова необходимо иметь заранее подготовленные эталонные записи. Из этого вытекает проблема масштабирования системы с большим словарем.<br>\n",
    "2) Подобная система имеет плохую устойчивость к шумам.<br>\n",
    "3) По какому принципу вибирать нужные эталоны?<br>\n",
    "4) Сколько должно быть таких эталонов, чтобы покрыть всю вариативность произнесеней?<br>\n",
    "5) Чем больше эталонов, тем алгоритм вычислительнозатратен.<br>\n",
    "\n",
    "В этом уроке мы перейдем от DTW к распознаванию по эталонному словарю. \n",
    "\n",
    "Эталон в графе теперь будет задаваться как последовательность фонем из словаря. Словарь для YES_NO (data/lexicon_yes_no.txt) выглядит следующим образом:\n",
    "\n",
    "<b>YES</b>  SIL Y EH1 S SIL<br>\n",
    "<b>NO</b>  SIL N OW1 SIL<br>\n",
    "\n",
    "Словарь для цифр (data/lexicon_digits.txt):\n",
    "\n",
    "<b>ZERO</b>  SIL Z IH1 R OW0 SIL<br>\n",
    "<b>ZERO</b>  SIL Z IY1 R OW0 SIL<br>\n",
    "<b>ONE</b>  SIL W AH1 N SIL<br>\n",
    "<b>ONE</b>  SIL HH W AH1 N SIL<br>\n",
    "<b>TWO</b>  SIL T UW1 SIL<br>\n",
    "<b>THREE</b>  SIL TH R IY1 SIL<br>\n",
    "<b>FOUR</b>  SIL F AO1 R SIL<br>\n",
    "<b>FIVE</b>  SIL F AY1 V SIL<br>\n",
    "<b>SIX</b>  SIL S IH1 K S SIL<br>\n",
    "<b>SEVEN</b>  SIL S EH1 V AH0 N SIL<br>\n",
    "<b>EIGHT</b>  SIL EY1 T SIL<br>\n",
    "<b>NINE</b>  SIL N AY1 N SIL<br>\n",
    "\n",
    "SIL здесь – это фонема паузы.\n",
    "Как вы возможно заметили, для некторых слов имеется несколько вариантов фонемной транскрипции. Это позволяет лучше учесть фонетическое разнообразие в произнесении некоторых слов.\n",
    "\n",
    "Каждой фонеме будет сопоставлен наиболее типичный для нее вектор признаков. В данном случае мы будем использовать среднее значение вектора признаков фонем, взятых из обучающего набора. Будем называть это акустической моделью."
   ]
  },
  {
   "cell_type": "markdown",
   "metadata": {
    "id": "PjAjWp16ALjb"
   },
   "source": [
    "### Данные для обучения\n",
    "\n",
    "Наша задача собрать статистику акустических признаков по каждой фонеме, находящейся в графе распознавания. В качестве обучающей выборки мы будем использовать подмножество данных librispeech (аудиозаписи чтения книг на английском). Для этого предварительно мной была получена покадровая разметка этого подмножества на фонемы. Схематично данный процесс представлен на картинке ниже:\n",
    "\n",
    "![](https://drive.google.com/uc?export=view&id=16PdwggV_Cl6aaD4cu1MZ-fKzWzAvcFVw)\n",
    "\n",
    "Файл разметки (ali_phones.txt) представлен в формате:\n",
    "\n",
    "<b>filename1 phone_frame1 phone_frame2 phone_frame3 ...<br>\n",
    "   filename2 phone_frame1 phone_frame2 phone_frame3 ...</b> \n",
    "   \n",
    "Пример такой покадровой фонемной разметки одного файла с текстом \"<b>MUCH COULD BE DONE IN THREE YEARS</b>\" представлен ниже:\n",
    "\n",
    "<b>1183-124566-0003 SIL SIL SIL SIL SIL SIL SIL SIL SIL SIL SIL SIL SIL SIL SIL SIL M M M M M M M M M AH1 AH1 AH1 AH1 AH1 AH1 AH1 AH1 AH1 CH CH CH CH CH CH CH CH CH CH CH K K K K\n",
    "K K K K K UH1 UH1 UH1 UH1 D D D D D B B B B B B IY0 IY0 IY0 IY0 IY0 D D D D D D D D D D D D AH1 AH1 AH1 AH1 AH1 AH1 AH1 AH1 AH1 AH1 AH1 AH1 AH1 AH1 AH1 AH1 AH1 AH1 AH1 AH1 N N\n",
    "N N N N N N N N N N N N N SIL SIL SIL SIL SIL SIL SIL SIL SIL SIL SIL SIL SIL SIL SIL SIL SIL SIL SIL SIL SIL SIL SIL SIL SIL SIL SIL SIL SIL SIL SIL SIL SIL SIL SIL SIL SIL SI\n",
    "L SIL SIL SIL SIL SIL SIL SIL SIL IH1 IH1 IH1 IH1 IH1 IH1 IH1 IH1 IH1 IH1 IH1 N N N N N N N N N N SIL SIL SIL SIL SIL TH TH TH TH TH TH TH TH TH TH TH TH TH R R R R R R IY1 IY1\n",
    " IY1 IY1 IY1 IY1 IY1 Y Y Y Y Y Y Y Y Y Y Y Y Y Y Y Y Y Y IH1 IH1 IH1 IH1 IH1 IH1 IH1 IH1 R R R R R R R R R R R R R R R Z Z Z Z Z Z Z Z Z Z Z Z Z Z Z Z Z Z Z Z SIL SIL SIL SIL</b>\n",
    " \n",
    "Аудио файлы этих данных лежат в папке \"data/train_librispeech_10h/wav_dir\""
   ]
  },
  {
   "cell_type": "markdown",
   "metadata": {
    "id": "3aDoHq5vA3BE"
   },
   "source": [
    "### Bootstrap"
   ]
  },
  {
   "cell_type": "code",
   "execution_count": 1,
   "metadata": {
    "id": "bbuT2aOeEnFP"
   },
   "outputs": [],
   "source": [
    "import os\n",
    "import numpy as np\n",
    "import time\n",
    "from tqdm.notebook import tqdm\n",
    "import matplotlib.pyplot as plt\n",
    "import IPython.display as ipd\n",
    "import librosa, librosa.display\n",
    "\n",
    "\n",
    "\n",
    "%matplotlib inline\n",
    "plt.rcParams['figure.figsize'] = (15.0, 5.0)\n",
    "plt.rcParams['image.interpolation'] = 'nearest'\n",
    "plt.rcParams['image.cmap'] = 'gray'"
   ]
  },
  {
   "cell_type": "code",
   "execution_count": 2,
   "metadata": {
    "colab": {
     "base_uri": "https://localhost:8080/",
     "height": 127
    },
    "id": "yK0OtyHPEoH_",
    "outputId": "1f07bd41-2eda-4646-e656-44af382fd1b5"
   },
   "outputs": [
    {
     "name": "stderr",
     "output_type": "stream",
     "text": [
      "C:\\Users\\asus\\anaconda3\\lib\\site-packages\\librosa\\core\\audio.py:165: UserWarning: PySoundFile failed. Trying audioread instead.\n",
      "  warnings.warn(\"PySoundFile failed. Trying audioread instead.\")\n"
     ]
    },
    {
     "ename": "FileNotFoundError",
     "evalue": "[Errno 2] No such file or directory: 'data/train_librispeech_10h/wav_dir/1183-124566-0003.flac'",
     "output_type": "error",
     "traceback": [
      "\u001b[1;31m---------------------------------------------------------------------------\u001b[0m",
      "\u001b[1;31mRuntimeError\u001b[0m                              Traceback (most recent call last)",
      "\u001b[1;32m~\\anaconda3\\lib\\site-packages\\librosa\\core\\audio.py\u001b[0m in \u001b[0;36mload\u001b[1;34m(path, sr, mono, offset, duration, dtype, res_type)\u001b[0m\n\u001b[0;32m    148\u001b[0m     \u001b[1;32mtry\u001b[0m\u001b[1;33m:\u001b[0m\u001b[1;33m\u001b[0m\u001b[1;33m\u001b[0m\u001b[0m\n\u001b[1;32m--> 149\u001b[1;33m         \u001b[1;32mwith\u001b[0m \u001b[0msf\u001b[0m\u001b[1;33m.\u001b[0m\u001b[0mSoundFile\u001b[0m\u001b[1;33m(\u001b[0m\u001b[0mpath\u001b[0m\u001b[1;33m)\u001b[0m \u001b[1;32mas\u001b[0m \u001b[0msf_desc\u001b[0m\u001b[1;33m:\u001b[0m\u001b[1;33m\u001b[0m\u001b[1;33m\u001b[0m\u001b[0m\n\u001b[0m\u001b[0;32m    150\u001b[0m             \u001b[0msr_native\u001b[0m \u001b[1;33m=\u001b[0m \u001b[0msf_desc\u001b[0m\u001b[1;33m.\u001b[0m\u001b[0msamplerate\u001b[0m\u001b[1;33m\u001b[0m\u001b[1;33m\u001b[0m\u001b[0m\n",
      "\u001b[1;32m~\\anaconda3\\lib\\site-packages\\soundfile.py\u001b[0m in \u001b[0;36m__init__\u001b[1;34m(self, file, mode, samplerate, channels, subtype, endian, format, closefd)\u001b[0m\n\u001b[0;32m    628\u001b[0m                                          format, subtype, endian)\n\u001b[1;32m--> 629\u001b[1;33m         \u001b[0mself\u001b[0m\u001b[1;33m.\u001b[0m\u001b[0m_file\u001b[0m \u001b[1;33m=\u001b[0m \u001b[0mself\u001b[0m\u001b[1;33m.\u001b[0m\u001b[0m_open\u001b[0m\u001b[1;33m(\u001b[0m\u001b[0mfile\u001b[0m\u001b[1;33m,\u001b[0m \u001b[0mmode_int\u001b[0m\u001b[1;33m,\u001b[0m \u001b[0mclosefd\u001b[0m\u001b[1;33m)\u001b[0m\u001b[1;33m\u001b[0m\u001b[1;33m\u001b[0m\u001b[0m\n\u001b[0m\u001b[0;32m    630\u001b[0m         \u001b[1;32mif\u001b[0m \u001b[0mset\u001b[0m\u001b[1;33m(\u001b[0m\u001b[0mmode\u001b[0m\u001b[1;33m)\u001b[0m\u001b[1;33m.\u001b[0m\u001b[0missuperset\u001b[0m\u001b[1;33m(\u001b[0m\u001b[1;34m'r+'\u001b[0m\u001b[1;33m)\u001b[0m \u001b[1;32mand\u001b[0m \u001b[0mself\u001b[0m\u001b[1;33m.\u001b[0m\u001b[0mseekable\u001b[0m\u001b[1;33m(\u001b[0m\u001b[1;33m)\u001b[0m\u001b[1;33m:\u001b[0m\u001b[1;33m\u001b[0m\u001b[1;33m\u001b[0m\u001b[0m\n",
      "\u001b[1;32m~\\anaconda3\\lib\\site-packages\\soundfile.py\u001b[0m in \u001b[0;36m_open\u001b[1;34m(self, file, mode_int, closefd)\u001b[0m\n\u001b[0;32m   1182\u001b[0m             \u001b[1;32mraise\u001b[0m \u001b[0mTypeError\u001b[0m\u001b[1;33m(\u001b[0m\u001b[1;34m\"Invalid file: {0!r}\"\u001b[0m\u001b[1;33m.\u001b[0m\u001b[0mformat\u001b[0m\u001b[1;33m(\u001b[0m\u001b[0mself\u001b[0m\u001b[1;33m.\u001b[0m\u001b[0mname\u001b[0m\u001b[1;33m)\u001b[0m\u001b[1;33m)\u001b[0m\u001b[1;33m\u001b[0m\u001b[1;33m\u001b[0m\u001b[0m\n\u001b[1;32m-> 1183\u001b[1;33m         _error_check(_snd.sf_error(file_ptr),\n\u001b[0m\u001b[0;32m   1184\u001b[0m                      \"Error opening {0!r}: \".format(self.name))\n",
      "\u001b[1;32m~\\anaconda3\\lib\\site-packages\\soundfile.py\u001b[0m in \u001b[0;36m_error_check\u001b[1;34m(err, prefix)\u001b[0m\n\u001b[0;32m   1356\u001b[0m         \u001b[0merr_str\u001b[0m \u001b[1;33m=\u001b[0m \u001b[0m_snd\u001b[0m\u001b[1;33m.\u001b[0m\u001b[0msf_error_number\u001b[0m\u001b[1;33m(\u001b[0m\u001b[0merr\u001b[0m\u001b[1;33m)\u001b[0m\u001b[1;33m\u001b[0m\u001b[1;33m\u001b[0m\u001b[0m\n\u001b[1;32m-> 1357\u001b[1;33m         \u001b[1;32mraise\u001b[0m \u001b[0mRuntimeError\u001b[0m\u001b[1;33m(\u001b[0m\u001b[0mprefix\u001b[0m \u001b[1;33m+\u001b[0m \u001b[0m_ffi\u001b[0m\u001b[1;33m.\u001b[0m\u001b[0mstring\u001b[0m\u001b[1;33m(\u001b[0m\u001b[0merr_str\u001b[0m\u001b[1;33m)\u001b[0m\u001b[1;33m.\u001b[0m\u001b[0mdecode\u001b[0m\u001b[1;33m(\u001b[0m\u001b[1;34m'utf-8'\u001b[0m\u001b[1;33m,\u001b[0m \u001b[1;34m'replace'\u001b[0m\u001b[1;33m)\u001b[0m\u001b[1;33m)\u001b[0m\u001b[1;33m\u001b[0m\u001b[1;33m\u001b[0m\u001b[0m\n\u001b[0m\u001b[0;32m   1358\u001b[0m \u001b[1;33m\u001b[0m\u001b[0m\n",
      "\u001b[1;31mRuntimeError\u001b[0m: Error opening 'data/train_librispeech_10h/wav_dir/1183-124566-0003.flac': System error.",
      "\nDuring handling of the above exception, another exception occurred:\n",
      "\u001b[1;31mFileNotFoundError\u001b[0m                         Traceback (most recent call last)",
      "\u001b[1;32m<ipython-input-2-6e97d5e0147b>\u001b[0m in \u001b[0;36m<module>\u001b[1;34m\u001b[0m\n\u001b[0;32m      3\u001b[0m \u001b[1;33m\u001b[0m\u001b[0m\n\u001b[0;32m      4\u001b[0m \u001b[1;31m# чтение wav файла:\u001b[0m\u001b[1;33m\u001b[0m\u001b[1;33m\u001b[0m\u001b[1;33m\u001b[0m\u001b[0m\n\u001b[1;32m----> 5\u001b[1;33m \u001b[0mx\u001b[0m\u001b[1;33m,\u001b[0m \u001b[0msr\u001b[0m \u001b[1;33m=\u001b[0m \u001b[0mlibrosa\u001b[0m\u001b[1;33m.\u001b[0m\u001b[0mload\u001b[0m\u001b[1;33m(\u001b[0m\u001b[0mwav_example\u001b[0m\u001b[1;33m,\u001b[0m \u001b[0msr\u001b[0m\u001b[1;33m=\u001b[0m\u001b[1;32mNone\u001b[0m\u001b[1;33m)\u001b[0m     \u001b[1;31m# sr=None to preserve the native sampling rate\u001b[0m\u001b[1;33m\u001b[0m\u001b[1;33m\u001b[0m\u001b[0m\n\u001b[0m\u001b[0;32m      6\u001b[0m \u001b[1;33m\u001b[0m\u001b[0m\n\u001b[0;32m      7\u001b[0m \u001b[0mprint\u001b[0m\u001b[1;33m(\u001b[0m\u001b[1;34mf'Number of samples: {len(x)}'\u001b[0m\u001b[1;33m)\u001b[0m\u001b[1;33m\u001b[0m\u001b[1;33m\u001b[0m\u001b[0m\n",
      "\u001b[1;32m~\\anaconda3\\lib\\site-packages\\librosa\\core\\audio.py\u001b[0m in \u001b[0;36mload\u001b[1;34m(path, sr, mono, offset, duration, dtype, res_type)\u001b[0m\n\u001b[0;32m    164\u001b[0m         \u001b[1;32mif\u001b[0m \u001b[0misinstance\u001b[0m\u001b[1;33m(\u001b[0m\u001b[0mpath\u001b[0m\u001b[1;33m,\u001b[0m \u001b[1;33m(\u001b[0m\u001b[0mstr\u001b[0m\u001b[1;33m,\u001b[0m \u001b[0mpathlib\u001b[0m\u001b[1;33m.\u001b[0m\u001b[0mPurePath\u001b[0m\u001b[1;33m)\u001b[0m\u001b[1;33m)\u001b[0m\u001b[1;33m:\u001b[0m\u001b[1;33m\u001b[0m\u001b[1;33m\u001b[0m\u001b[0m\n\u001b[0;32m    165\u001b[0m             \u001b[0mwarnings\u001b[0m\u001b[1;33m.\u001b[0m\u001b[0mwarn\u001b[0m\u001b[1;33m(\u001b[0m\u001b[1;34m\"PySoundFile failed. Trying audioread instead.\"\u001b[0m\u001b[1;33m)\u001b[0m\u001b[1;33m\u001b[0m\u001b[1;33m\u001b[0m\u001b[0m\n\u001b[1;32m--> 166\u001b[1;33m             \u001b[0my\u001b[0m\u001b[1;33m,\u001b[0m \u001b[0msr_native\u001b[0m \u001b[1;33m=\u001b[0m \u001b[0m__audioread_load\u001b[0m\u001b[1;33m(\u001b[0m\u001b[0mpath\u001b[0m\u001b[1;33m,\u001b[0m \u001b[0moffset\u001b[0m\u001b[1;33m,\u001b[0m \u001b[0mduration\u001b[0m\u001b[1;33m,\u001b[0m \u001b[0mdtype\u001b[0m\u001b[1;33m)\u001b[0m\u001b[1;33m\u001b[0m\u001b[1;33m\u001b[0m\u001b[0m\n\u001b[0m\u001b[0;32m    167\u001b[0m         \u001b[1;32melse\u001b[0m\u001b[1;33m:\u001b[0m\u001b[1;33m\u001b[0m\u001b[1;33m\u001b[0m\u001b[0m\n\u001b[0;32m    168\u001b[0m             \u001b[1;32mraise\u001b[0m \u001b[1;33m(\u001b[0m\u001b[0mexc\u001b[0m\u001b[1;33m)\u001b[0m\u001b[1;33m\u001b[0m\u001b[1;33m\u001b[0m\u001b[0m\n",
      "\u001b[1;32m~\\anaconda3\\lib\\site-packages\\librosa\\core\\audio.py\u001b[0m in \u001b[0;36m__audioread_load\u001b[1;34m(path, offset, duration, dtype)\u001b[0m\n\u001b[0;32m    188\u001b[0m \u001b[1;33m\u001b[0m\u001b[0m\n\u001b[0;32m    189\u001b[0m     \u001b[0my\u001b[0m \u001b[1;33m=\u001b[0m \u001b[1;33m[\u001b[0m\u001b[1;33m]\u001b[0m\u001b[1;33m\u001b[0m\u001b[1;33m\u001b[0m\u001b[0m\n\u001b[1;32m--> 190\u001b[1;33m     \u001b[1;32mwith\u001b[0m \u001b[0maudioread\u001b[0m\u001b[1;33m.\u001b[0m\u001b[0maudio_open\u001b[0m\u001b[1;33m(\u001b[0m\u001b[0mpath\u001b[0m\u001b[1;33m)\u001b[0m \u001b[1;32mas\u001b[0m \u001b[0minput_file\u001b[0m\u001b[1;33m:\u001b[0m\u001b[1;33m\u001b[0m\u001b[1;33m\u001b[0m\u001b[0m\n\u001b[0m\u001b[0;32m    191\u001b[0m         \u001b[0msr_native\u001b[0m \u001b[1;33m=\u001b[0m \u001b[0minput_file\u001b[0m\u001b[1;33m.\u001b[0m\u001b[0msamplerate\u001b[0m\u001b[1;33m\u001b[0m\u001b[1;33m\u001b[0m\u001b[0m\n\u001b[0;32m    192\u001b[0m         \u001b[0mn_channels\u001b[0m \u001b[1;33m=\u001b[0m \u001b[0minput_file\u001b[0m\u001b[1;33m.\u001b[0m\u001b[0mchannels\u001b[0m\u001b[1;33m\u001b[0m\u001b[1;33m\u001b[0m\u001b[0m\n",
      "\u001b[1;32m~\\anaconda3\\lib\\site-packages\\audioread\\__init__.py\u001b[0m in \u001b[0;36maudio_open\u001b[1;34m(path, backends)\u001b[0m\n\u001b[0;32m    109\u001b[0m     \u001b[1;32mfor\u001b[0m \u001b[0mBackendClass\u001b[0m \u001b[1;32min\u001b[0m \u001b[0mbackends\u001b[0m\u001b[1;33m:\u001b[0m\u001b[1;33m\u001b[0m\u001b[1;33m\u001b[0m\u001b[0m\n\u001b[0;32m    110\u001b[0m         \u001b[1;32mtry\u001b[0m\u001b[1;33m:\u001b[0m\u001b[1;33m\u001b[0m\u001b[1;33m\u001b[0m\u001b[0m\n\u001b[1;32m--> 111\u001b[1;33m             \u001b[1;32mreturn\u001b[0m \u001b[0mBackendClass\u001b[0m\u001b[1;33m(\u001b[0m\u001b[0mpath\u001b[0m\u001b[1;33m)\u001b[0m\u001b[1;33m\u001b[0m\u001b[1;33m\u001b[0m\u001b[0m\n\u001b[0m\u001b[0;32m    112\u001b[0m         \u001b[1;32mexcept\u001b[0m \u001b[0mDecodeError\u001b[0m\u001b[1;33m:\u001b[0m\u001b[1;33m\u001b[0m\u001b[1;33m\u001b[0m\u001b[0m\n\u001b[0;32m    113\u001b[0m             \u001b[1;32mpass\u001b[0m\u001b[1;33m\u001b[0m\u001b[1;33m\u001b[0m\u001b[0m\n",
      "\u001b[1;32m~\\anaconda3\\lib\\site-packages\\audioread\\rawread.py\u001b[0m in \u001b[0;36m__init__\u001b[1;34m(self, filename)\u001b[0m\n\u001b[0;32m     60\u001b[0m     \"\"\"\n\u001b[0;32m     61\u001b[0m     \u001b[1;32mdef\u001b[0m \u001b[0m__init__\u001b[0m\u001b[1;33m(\u001b[0m\u001b[0mself\u001b[0m\u001b[1;33m,\u001b[0m \u001b[0mfilename\u001b[0m\u001b[1;33m)\u001b[0m\u001b[1;33m:\u001b[0m\u001b[1;33m\u001b[0m\u001b[1;33m\u001b[0m\u001b[0m\n\u001b[1;32m---> 62\u001b[1;33m         \u001b[0mself\u001b[0m\u001b[1;33m.\u001b[0m\u001b[0m_fh\u001b[0m \u001b[1;33m=\u001b[0m \u001b[0mopen\u001b[0m\u001b[1;33m(\u001b[0m\u001b[0mfilename\u001b[0m\u001b[1;33m,\u001b[0m \u001b[1;34m'rb'\u001b[0m\u001b[1;33m)\u001b[0m\u001b[1;33m\u001b[0m\u001b[1;33m\u001b[0m\u001b[0m\n\u001b[0m\u001b[0;32m     63\u001b[0m \u001b[1;33m\u001b[0m\u001b[0m\n\u001b[0;32m     64\u001b[0m         \u001b[1;32mtry\u001b[0m\u001b[1;33m:\u001b[0m\u001b[1;33m\u001b[0m\u001b[1;33m\u001b[0m\u001b[0m\n",
      "\u001b[1;31mFileNotFoundError\u001b[0m: [Errno 2] No such file or directory: 'data/train_librispeech_10h/wav_dir/1183-124566-0003.flac'"
     ]
    }
   ],
   "source": [
    "# рассмотрим пример такой записи:\n",
    "wav_example = 'data/train_librispeech_10h/wav_dir/1183-124566-0003.flac'\n",
    "\n",
    "# чтение wav файла:\n",
    "x, sr = librosa.load(wav_example, sr=None)     # sr=None to preserve the native sampling rate\n",
    "\n",
    "print(f'Number of samples: {len(x)}')\n",
    "print(f'Sampling rate: {sr} Hz')\n",
    "print(f'Duration: {len(x)/sr:.2f} s')  # ~ librosa.get_duration(x, sr)\n",
    "\n",
    "# воспроизведение:\n",
    "ipd.Audio(x, rate=sr)"
   ]
  },
  {
   "cell_type": "code",
   "execution_count": 5,
   "metadata": {
    "colab": {
     "base_uri": "https://localhost:8080/",
     "height": 367
    },
    "id": "C2tGLWBmEssy",
    "outputId": "e9af2d57-665e-4263-d053-274628978cd0"
   },
   "outputs": [
    {
     "data": {
      "text/plain": [
       "Text(0.5, 1.0, 'Log-frequency power spectrogram')"
      ]
     },
     "execution_count": 5,
     "metadata": {},
     "output_type": "execute_result"
    },
    {
     "data": {
      "image/png": "[encoded data removed]",
      "text/plain": [
       "<Figure size 1080x360 with 2 Axes>"
      ]
     },
     "metadata": {
      "needs_background": "light"
     },
     "output_type": "display_data"
    }
   ],
   "source": [
    "# спектрограмма:\n",
    "D = librosa.amplitude_to_db(np.abs(librosa.stft(x)), ref=np.max)\n",
    "plt.figure(figsize=(15,5))\n",
    "librosa.display.specshow(D, sr=sr, y_axis='hz', x_axis='time')\n",
    "plt.colorbar(format='%+2.0f dB')\n",
    "plt.title('Log-frequency power spectrogram')"
   ]
  },
  {
   "cell_type": "markdown",
   "metadata": {
    "id": "JXFxvv-_E8t8"
   },
   "source": [
    "### Подготовка данных"
   ]
  },
  {
   "cell_type": "code",
   "execution_count": 6,
   "metadata": {
    "id": "Ku1F2BULE6Xe"
   },
   "outputs": [],
   "source": [
    "# загрузка покадровой фонемной разметки в словарь:\n",
    "def load_phone_aligment(aligment_file):\n",
    "    ali_dict = {}\n",
    "    with open(aligment_file, encoding='utf-8') as fn:\n",
    "        for line in fn:\n",
    "            line = line.strip().split()\n",
    "            ali_dict[line[0]] = line[1:]\n",
    "    return ali_dict\n",
    "\n",
    "ali_file = 'data/train_librispeech_10h/ali_phones.txt'\n",
    "ali_dict = load_phone_aligment(ali_file)"
   ]
  },
  {
   "cell_type": "code",
   "execution_count": 7,
   "metadata": {
    "colab": {
     "base_uri": "https://localhost:8080/",
     "height": 66,
     "referenced_widgets": [
      "04654b426e764496b93a14d6f053b0ec",
      "1d26fdd77d1441b89c7386c13d1723d9",
      "3d3b3fd84f884ada840608b179392e49",
      "db84f07aa998485584bfa6299495c1d5",
      "d0e872e190254ef5bedda0484499d8e0",
      "75bcbf4aec314824b17c84b5805396fa",
      "1139e1cdc8954535a875c01f129af41c",
      "87048662410a49669f94d00960b6a8c4",
      "32b860ea958a497dbf96fee84b47cf0a",
      "b38898bc663a4ed08e69bebdcef3f924",
      "79ae76b6071c4ccb85aa48f8c8eecd3c"
     ]
    },
    "id": "3uAVnRPDE_MS",
    "outputId": "2de2b72c-a3be-4997-b1e0-fba0aa21bfbd"
   },
   "outputs": [
    {
     "data": {
      "application/vnd.jupyter.widget-view+json": {
       "model_id": "04654b426e764496b93a14d6f053b0ec",
       "version_major": 2,
       "version_minor": 0
      },
      "text/plain": [
       "0it [00:00, ?it/s]"
      ]
     },
     "metadata": {},
     "output_type": "display_data"
    },
    {
     "name": "stdout",
     "output_type": "stream",
     "text": [
      "Early stop at 100th file..\n"
     ]
    }
   ],
   "source": [
    "# подсчет акустиеских признаков для записей из папки:\n",
    "def load_data_dict(dir_path, count=None):\n",
    "    data_dict = {}\n",
    "    for step, wav_name in tqdm(enumerate(os.listdir(dir_path))):\n",
    "        x, sr = librosa.load(os.path.join(dir_path, wav_name), sr=None) \n",
    "        mfcc = librosa.feature.mfcc(x,\n",
    "                                    sr=sr,\n",
    "                                    n_mfcc=13, \n",
    "                                    n_fft=int(sr * 0.025),\n",
    "                                    hop_length=int(sr * 0.01))\n",
    "        if count and step == count:\n",
    "            print(f'Early stop at {step}th file..')\n",
    "            break\n",
    "        data_dict[wav_name.split('.')[0]] = mfcc.T  \n",
    "    return data_dict\n",
    "\n",
    "train_records_dir = 'data/train_librispeech_10h/wav_dir'\n",
    "train_data_dict = load_data_dict(train_records_dir, count=100)"
   ]
  },
  {
   "cell_type": "code",
   "execution_count": 8,
   "metadata": {
    "id": "CN2Q0wYTFMs5"
   },
   "outputs": [],
   "source": [
    "# инициализация списка допустимых фонем из предустановленного файла\n",
    "def init_phones_dict(phones_file):\n",
    "    phones_dict = {}\n",
    "    with open(phones_file, encoding='utf-8') as fn:\n",
    "        for line in fn:\n",
    "            phones_dict[line.strip()] = []\n",
    "    return phones_dict\n",
    "\n",
    "phones_file = 'data/train_librispeech_10h/phones'\n",
    "phones_dict = init_phones_dict(phones_file)"
   ]
  },
  {
   "cell_type": "code",
   "execution_count": null,
   "metadata": {
    "colab": {
     "base_uri": "https://localhost:8080/"
    },
    "id": "1Yd0anSjFOr_",
    "outputId": "7e308035-a6be-488e-b904-74e2938dee45"
   },
   "outputs": [
    {
     "name": "stdout",
     "output_type": "stream",
     "text": [
      "SIL: 22935\n",
      "SPN: 915\n",
      "AA : 0\n",
      "AA0: 26\n",
      "AA1: 1636\n",
      "AA2: 114\n",
      "AE : 0\n",
      "AE0: 84\n",
      "AE1: 3460\n",
      "AE2: 139\n",
      "AH : 0\n",
      "AH0: 5308\n",
      "AH1: 1639\n",
      "AH2: 19\n",
      "AO : 0\n",
      "AO0: 9\n",
      "AO1: 1916\n",
      "AO2: 74\n",
      "AW : 0\n",
      "AW0: 0\n",
      "AW1: 1303\n",
      "AW2: 39\n",
      "AY : 0\n",
      "AY0: 24\n",
      "AY1: 2966\n",
      "AY2: 256\n",
      "B  : 1480\n",
      "CH : 851\n",
      "D  : 4074\n",
      "DH : 1914\n",
      "EH : 0\n",
      "EH0: 33\n",
      "EH1: 3037\n",
      "EH2: 105\n",
      "ER : 0\n",
      "ER0: 2720\n",
      "ER1: 972\n",
      "ER2: 22\n",
      "EY : 0\n",
      "EY0: 16\n",
      "EY1: 2559\n",
      "EY2: 93\n",
      "F  : 2481\n",
      "G  : 879\n",
      "HH : 2021\n",
      "IH : 0\n",
      "IH0: 2757\n",
      "IH1: 2403\n",
      "IH2: 69\n",
      "IY : 0\n",
      "IY0: 2239\n",
      "IY1: 2168\n",
      "IY2: 71\n",
      "JH : 647\n",
      "K  : 3008\n",
      "L  : 3990\n",
      "M  : 3145\n",
      "N  : 5924\n",
      "NG : 1389\n",
      "OW : 0\n",
      "OW0: 281\n",
      "OW1: 1791\n",
      "OW2: 74\n",
      "OY : 0\n",
      "OY0: 9\n",
      "OY1: 108\n",
      "OY2: 0\n",
      "P  : 1960\n",
      "R  : 3751\n",
      "S  : 6383\n",
      "SH : 1079\n",
      "T  : 6340\n",
      "TH : 706\n",
      "UH : 0\n",
      "UH0: 3\n",
      "UH1: 392\n",
      "UH2: 12\n",
      "UW : 0\n",
      "UW0: 77\n",
      "UW1: 1819\n",
      "UW2: 47\n",
      "V  : 1735\n",
      "W  : 2475\n",
      "Y  : 735\n",
      "Z  : 3526\n",
      "ZH : 67\n",
      "Number of empty phones is: 17\n"
     ]
    }
   ],
   "source": [
    "# присвоим каждой фонеме набор ее признаков в соответствии с фонемной разметкой обучающей выборки\n",
    "# количество кадров признаков может немного отличаться от количества размеченных фонем\n",
    "# это связано с особенностми построения разметки в Kaldi\n",
    "for file_name in train_data_dict.keys():\n",
    "    file_feats = train_data_dict[file_name]\n",
    "    file_ali = ali_dict[file_name]\n",
    "    for frame in range(min(len(file_feats), len(file_ali))):\n",
    "        phones_dict[file_ali[frame]].append(file_feats[frame])\n",
    "        \n",
    "# выведем статистику по кадой фонеме (некоторые фонемы вообще не используются, это особенности разметки в Kaldi):\n",
    "count = 0\n",
    "for phone in phones_dict.keys():\n",
    "    if len(phones_dict[phone]) == 0:\n",
    "        count +=1\n",
    "    print(f'{phone:<3}: {len(phones_dict[phone])}')\n",
    "print(f'Number of empty phones is: {count}')"
   ]
  },
  {
   "cell_type": "code",
   "execution_count": null,
   "metadata": {
    "id": "qVfBU-c0FXXO"
   },
   "outputs": [],
   "source": [
    "# соберем статистику на основе среднего значения для каждой фонемы\n",
    "mean_phones_value = {}\n",
    "for phone in phones_dict.keys():\n",
    "    if phones_dict[phone]:\n",
    "        mean_phones_value[phone] = np.mean(phones_dict[phone], axis=0)"
   ]
  },
  {
   "cell_type": "code",
   "execution_count": null,
   "metadata": {
    "id": "zZ4e9U_75jL3"
   },
   "outputs": [],
   "source": [
    "#-----------------------------TODO №2-----------------------------------\n",
    "# построить GMM модель для каждой фонемы (смотри задание2)\n",
    "#-----------------------------------------------------------------------"
   ]
  },
  {
   "cell_type": "markdown",
   "metadata": {
    "id": "P16k6UpnFX77"
   },
   "source": [
    "### Инициализация фонемного графа"
   ]
  },
  {
   "cell_type": "code",
   "execution_count": null,
   "metadata": {
    "id": "kNO5QhSRFai3"
   },
   "outputs": [],
   "source": [
    "# теперь будем распознавать по словарю, состоящему из конечных слов\n",
    "# для этого нужно загрузить файл лексикона, который определяет из каких фонем состоят наши слова\n",
    "def load_lexicon_dict(lexicon_file):\n",
    "    lexicon_dict = {}\n",
    "    with open(lexicon_file, encoding='utf-8') as fn:\n",
    "        for line in fn:\n",
    "            line = line.strip().split()\n",
    "            lexicon_dict[line[0]] = line[1:]\n",
    "    return lexicon_dict\n",
    "\n",
    "lexicon_file = 'data/lexicon_yes_no.txt'\n",
    "lexicon_dict = load_lexicon_dict(lexicon_file)"
   ]
  },
  {
   "cell_type": "markdown",
   "metadata": {
    "id": "Pxd1c2hQFhD6"
   },
   "source": [
    "Узлы графа теперь представляют собой отдельные фонемы с переходом только в себя и следующий узел (переходов через несколько узлов уже не будет, так как пропуск фонемы в слове нежелателен). Схема такого графа для да/нет (для цифр по аналогии) представлена ниже:\n",
    "\n",
    "![](https://drive.google.com/uc?export=view&id=1IJhR0l0YCPDge05ohigs0_P5gDX66fdM)\n",
    "\n",
    "В качестве <b>model</b> мы будем хранить простой класс <b>AcousticModel</b>, который хранит в себе имя фонемы и ее среднее значение. Также у этого класса есть метод вычисления евклидовой дистанции от хранящегося в нем среднего значения признака фонемы до текущего признака распознаваемой записи, который передается этому методу. "
   ]
  },
  {
   "cell_type": "code",
   "execution_count": null,
   "metadata": {
    "id": "h2YqXJzMFvCl"
   },
   "outputs": [],
   "source": [
    "class AcousticModel:\n",
    "    def __init__(self, phone_name, phone_feats):\n",
    "        self.phone_name = phone_name\n",
    "        self.phone_feats = phone_feats\n",
    "    def distance(self, input_feats):\n",
    "        return float(np.sqrt(sum(pow(self.phone_feats - input_feats, 2))))\n",
    "\n",
    "#-----------------------------TODO №2--------------------------------------------\n",
    "# заменить акустическую модель на основе среднего значения признака на GMM модель\n",
    "class GmmAcousticModel:\n",
    "    pass\n",
    "#--------------------------------------------------------------------------------\n",
    "\n",
    "class State:\n",
    "    def __init__(self, model, index):  \n",
    "        self.model = model                     # вектор признаков узла\n",
    "        self.is_final = False                  # является ли этот узел финальнвм в слове\n",
    "        self.word = None                       # слово эталона (назначается только для финального узла)\n",
    "        self.best_token = None                 # лучший токен (по минимуму дистанции) в узле\n",
    "        self.current_word = None               # текущее слово эталона\n",
    "        self.next_states = []                  # список следующих узлов\n",
    "        self.index = index                     # индекс узла \n",
    "\n",
    "        \n",
    "def load_graph(lexicon_dict, mean_phones_value):\n",
    "    start_state = State(AcousticModel(None, None), 0)\n",
    "    graph = [start_state, ]\n",
    "    state_index = 1\n",
    "    for word in lexicon_dict.keys():\n",
    "        previous_state = start_state\n",
    "        for phone in lexicon_dict[word]:\n",
    "            state = State(AcousticModel(phone, mean_phones_value[phone]), state_index)\n",
    "            state.current_word = word           # слово эталона теперь будет храниться в каждом узле\n",
    "            state.next_states.append(state)     # add loop\n",
    "            previous_state.next_states.append(state)\n",
    "            previous_state = state \n",
    "            graph.append(state)\n",
    "            state_index += 1\n",
    "        if state:\n",
    "            state.word = word\n",
    "            state.is_final = True\n",
    "    return graph\n",
    "\n",
    "\n",
    "def print_graph(graph):\n",
    "    if not os.path.exists('exp'):\n",
    "        os.mkdir('exp')\n",
    "    with open('exp/graph.txt', 'w') as fn:\n",
    "        np.set_printoptions(formatter={'float': '{: 0.1f}'.format})\n",
    "        for state in graph:\n",
    "            next_state_indexes = [s.index for s in state.next_states]\n",
    "            fn.write(\"State: index={} word={} is_final={} next_state_indexes={} phone={} \\n\".format(\n",
    "                state.index, state.word, state.is_final, next_state_indexes, state.model.phone_name))\n",
    "    print(\"*** SEE exp/graph.txt ***\")"
   ]
  },
  {
   "cell_type": "code",
   "execution_count": null,
   "metadata": {
    "colab": {
     "base_uri": "https://localhost:8080/"
    },
    "id": "8DOtPoIjFzYp",
    "outputId": "a5d9e4a0-3535-4797-bb6b-46ac0541c999"
   },
   "outputs": [
    {
     "name": "stdout",
     "output_type": "stream",
     "text": [
      "*** SEE exp/graph.txt ***\n"
     ]
    }
   ],
   "source": [
    "graph = load_graph(lexicon_dict, mean_phones_value)\n",
    "print_graph(graph)"
   ]
  },
  {
   "cell_type": "code",
   "execution_count": null,
   "metadata": {
    "id": "cC28co6MF1G3"
   },
   "outputs": [],
   "source": [
    "class Token:\n",
    "    def __init__(self, state, dist=0.0, word=\"\"):\n",
    "        self.state = state       # стейт графа, в котором токен находится в текущий момент\n",
    "        self.dist = dist         # общая накопленная дистанция пути, пройденного токеном\n",
    "        self.word = word         # слово, которое распозналось токеном\n",
    "        self.alive = True\n",
    "\n",
    "\n",
    "def beam_pruning(next_tokens, threshold):   \n",
    "    best_token = next_tokens[np.argmin([token.dist for token in next_tokens])]\n",
    "    for token in next_tokens:\n",
    "        if token.dist > best_token.dist + threshold:\n",
    "            token.alive = False\n",
    "    return next_tokens\n",
    "\n",
    "\n",
    "def state_pruning(next_tokens):\n",
    "    for token in next_tokens:  \n",
    "        if not token.state.best_token:\n",
    "            token.state.best_token = token\n",
    "        else:\n",
    "            if token.dist <= token.state.best_token.dist:\n",
    "                token.state.best_token.alive = False\n",
    "                token.state.best_token = token\n",
    "            else:\n",
    "                token.alive = False              \n",
    "    # сбрасываем best_token на None для всеx узлов графа:\n",
    "    for token in next_tokens:                                                   \n",
    "        if token.state.best_token:                     \n",
    "            token.state.best_token = None              \n",
    "    return next_tokens\n",
    "\n",
    "\n",
    "def recognize(filename, features, graph, recognition_results, beam_threshold):\n",
    "\n",
    "    start_state = graph[0]\n",
    "    active_tokens = [Token(start_state), ]\n",
    "    next_tokens = []\n",
    "\n",
    "    #for ftr_frame in tqdm(features, desc=\"recognition...\"):\n",
    "    for ftr_frame in features:\n",
    "        for token in active_tokens:\n",
    "            if token.alive:\n",
    "                for transition_state in token.state.next_states:\n",
    "                    new_token = Token(transition_state, token.dist, token.word)\n",
    "                    new_token.dist += transition_state.model.distance(ftr_frame)\n",
    "                    next_tokens.append(new_token)\n",
    "        # state and beam prunings:\n",
    "        next_tokens = state_pruning(next_tokens)         \n",
    "        next_tokens = beam_pruning(next_tokens, beam_threshold) \n",
    "\n",
    "        active_tokens = next_tokens\n",
    "        next_tokens = []                                    \n",
    "        \n",
    "    # поиск финальных токенов:\n",
    "    final_tokens = []\n",
    "    for token in active_tokens:\n",
    "        if token.state.is_final and token.alive:\n",
    "            final_tokens.append(token)\n",
    "\n",
    "    # если нет финальных, то берем лучший из выживших:\n",
    "    if len(final_tokens) != 0:\n",
    "        win_token = final_tokens[np.argmin([token.dist for token in final_tokens])]\n",
    "    else:\n",
    "        alive_tokens = [token for token in active_tokens if token.alive]\n",
    "        win_token = alive_tokens[np.argmin([token.dist for token in alive_tokens])]\n",
    "        win_token.state.word = win_token.state.current_word\n",
    "\n",
    "    # вывод результата\n",
    "    print(f\"result: {filename:<27} ==> {win_token.state.word}\")\n",
    "\n",
    "    # совпадает ли запись с полученным эталоном:  \n",
    "    record_word = filename.split('_')[0]\n",
    "    etalon_word = win_token.state.word.split('_')[0]\n",
    "    recognition_results.append(etalon_word.lower() == record_word)\n",
    "\n",
    "    return recognition_results"
   ]
  },
  {
   "cell_type": "code",
   "execution_count": null,
   "metadata": {
    "id": "lK6AYxapF5lo"
   },
   "outputs": [],
   "source": [
    "def run_recognizer(records_data_dict, graph, beam_threshold=10):\n",
    "    start_time = time.time()\n",
    "    recognition_results = []\n",
    "\n",
    "    for filename in records_data_dict.keys():    \n",
    "        recognition_results = recognize(filename, records_data_dict[filename], graph, recognition_results, beam_threshold)\n",
    "\n",
    "    print(\"-\" * 60)\n",
    "    print(f\"WER is: {(1 - sum(recognition_results)/len(recognition_results))*100:.2f}%\")\n",
    "    print(f\"Total time is: {time.time() - start_time:.2f} sec\")\n",
    "    print(\"-\" * 60)"
   ]
  },
  {
   "cell_type": "code",
   "execution_count": null,
   "metadata": {
    "id": "SVElJh1zF5_E"
   },
   "outputs": [],
   "source": [
    "def load_data_dict(dir_path):\n",
    "    data_dict = {}\n",
    "    for wav_name in os.listdir(dir_path):\n",
    "        x, sr = librosa.load(os.path.join(dir_path, wav_name), sr=None) \n",
    "        mfcc = librosa.feature.mfcc(x, sr=sr, n_mfcc=13, \n",
    "                                    n_fft=int(sr * 0.025),\n",
    "                                    hop_length=int(sr * 0.01))\n",
    "        data_dict[wav_name] = mfcc.T\n",
    "    \n",
    "    return data_dict"
   ]
  },
  {
   "cell_type": "markdown",
   "metadata": {
    "id": "HDkx9xJbF8BF"
   },
   "source": [
    "### Запустим наше распознавание на базе YES_NO"
   ]
  },
  {
   "cell_type": "code",
   "execution_count": null,
   "metadata": {
    "colab": {
     "base_uri": "https://localhost:8080/"
    },
    "id": "m1O-zUzmF-f6",
    "outputId": "6485e0e7-680c-480c-ae44-e8f6a0da3835"
   },
   "outputs": [
    {
     "name": "stdout",
     "output_type": "stream",
     "text": [
      "result: yes_ff63ab0b_nohash_0.wav   ==> YES\n",
      "result: no_41474817_nohash_0.wav    ==> NO\n",
      "result: yes_fc94edb0_nohash_0.wav   ==> YES\n",
      "result: yes_39a12648_nohash_0.wav   ==> YES\n",
      "result: no_49af4432_nohash_0.wav    ==> NO\n",
      "result: no_4abb2400_nohash_0.wav    ==> NO\n",
      "result: yes_39a6b995_nohash_0.wav   ==> NO\n",
      "result: no_4394fc7c_nohash_0.wav    ==> NO\n",
      "result: yes_fe1916ba_nohash_0.wav   ==> NO\n",
      "result: no_ad89eb1e_nohash_0.wav    ==> NO\n",
      "------------------------------------------------------------\n",
      "WER is: 20.00%\n",
      "Total time is: 0.24 sec\n",
      "------------------------------------------------------------\n"
     ]
    }
   ],
   "source": [
    "lexicon_file = 'data/lexicon_yes_no.txt'\n",
    "lexicon_dict = load_lexicon_dict(lexicon_file)\n",
    "graph = load_graph(lexicon_dict, mean_phones_value)\n",
    "records_data_dict = load_data_dict(\"data/yes_no/records\")\n",
    "\n",
    "run_recognizer(records_data_dict, graph, beam_threshold=20)"
   ]
  },
  {
   "cell_type": "markdown",
   "metadata": {
    "id": "W-PcgsxRGBbO"
   },
   "source": [
    "### Запустим наше распознавание на базе Digits"
   ]
  },
  {
   "cell_type": "code",
   "execution_count": null,
   "metadata": {
    "colab": {
     "base_uri": "https://localhost:8080/"
    },
    "id": "eFlTEI0EGD8L",
    "outputId": "f3e0b260-7108-478f-e564-12a16773a872"
   },
   "outputs": [
    {
     "name": "stdout",
     "output_type": "stream",
     "text": [
      "result: five_ffd2ba2f_nohash_0.wav  ==> FIVE\n",
      "result: nine_fbe51750_nohash_0.wav  ==> ONE\n",
      "result: zero_f852895b_nohash_0.wav  ==> FIVE\n",
      "result: one_ffa76c4a_nohash_0.wav   ==> ONE\n",
      "result: four_ffbb695d_nohash_0.wav  ==> FOUR\n",
      "result: zero_f92e49f3_nohash_3.wav  ==> SEVEN\n",
      "result: three_fce96bac_nohash_0.wav ==> FIVE\n",
      "result: four_fce65496_nohash_0.wav  ==> ONE\n",
      "result: eight_da584bc0_nohash_4.wav ==> SIX\n",
      "result: five_f852895b_nohash_0.wav  ==> FIVE\n",
      "result: three_feb1d305_nohash_0.wav ==> SIX\n",
      "result: eight_daf230ac_nohash_0.wav ==> THREE\n",
      "result: two_fb2f3242_nohash_0.wav   ==> ONE\n",
      "result: two_fce65496_nohash_0.wav   ==> SEVEN\n",
      "result: six_ffbb695d_nohash_0.wav   ==> SIX\n",
      "result: seven_fd32732a_nohash_0.wav ==> SIX\n",
      "result: seven_fe5c4a7a_nohash_0.wav ==> SEVEN\n",
      "result: one_fc2411fe_nohash_0.wav   ==> ONE\n",
      "result: six_ffd2ba2f_nohash_0.wav   ==> SIX\n",
      "result: nine_ccea893d_nohash_0.wav  ==> NINE\n",
      "------------------------------------------------------------\n",
      "WER is: 55.00%\n",
      "Total time is: 2.25 sec\n",
      "------------------------------------------------------------\n"
     ]
    }
   ],
   "source": [
    "lexicon_file = 'data/lexicon_digits.txt'\n",
    "lexicon_dict = load_lexicon_dict(lexicon_file)\n",
    "graph = load_graph(lexicon_dict, mean_phones_value)\n",
    "records_data_dict = load_data_dict(\"data/digits/records\")\n",
    "\n",
    "run_recognizer(records_data_dict, graph, beam_threshold=2000)"
   ]
  },
  {
   "cell_type": "markdown",
   "metadata": {
    "id": "G95sGPm4GGRR"
   },
   "source": [
    "### <b>Задание №1</b> (5 баллов):\n",
    "Отрисовать кластеры признаков фонем \"Y EH1 S N OW1\" в двухмерном пространстве. Для понижения размерности можно воспользоваться алгоритмом t-SNE -- https://scikit-learn.org/stable/modules/generated/sklearn.manifold.TSNE.html. Все пять кластеров должны помещаться на один рисунок и иметь разные цвета. Также укажите на графике какой цвет какой фонеме соответствует.  "
   ]
  },
  {
   "cell_type": "markdown",
   "metadata": {
    "id": "0jW0HNtG9V3o"
   },
   "source": [
    "### **Ответ**:\n",
    "..."
   ]
  },
  {
   "cell_type": "markdown",
   "metadata": {
    "id": "LMeiGWg7GIRR"
   },
   "source": [
    "### <b>Задание №2</b> (5 баллов):\n",
    "Заменить модель среднего значения фонемы на GMM. Количестов смесей для каждой фонемы можно выставить в 3. Теперь вместо расстояния мы будем измерять вероятность принадлежности кадра признаков к GMM модели фонемы, находящейся в конкретном узле графа. Чтобы использовать это значение в парадигме нашего алгоритма, в качестве дистанции нужно брать значение -log(x), где x -- предсказанная вероятность. Тогда чем выше вероятность, тем такая импровизированная дистанция будет меньше. Ссылка на питоновскую реализацию GMM -- https://scikit-learn.org/stable/modules/generated/sklearn.mixture.GaussianMixture.html.\n",
    "\n",
    "Что стало с качеством распознавания на двух тестах?"
   ]
  },
  {
   "cell_type": "markdown",
   "metadata": {
    "id": "d-O_qfru96jV"
   },
   "source": [
    "### **Ответ**:\n",
    "..."
   ]
  }
 ],
 "metadata": {
  "colab": {
   "collapsed_sections": [],
   "name": "Копия блокнота \"asr_lab_2.ipynb\"",
   "provenance": []
  },
  "kernelspec": {
   "display_name": "Python 3",
   "language": "python",
   "name": "python3"
  },
  "language_info": {
   "codemirror_mode": {
    "name": "ipython",
    "version": 3
   },
   "file_extension": ".py",
   "mimetype": "text/x-python",
   "name": "python",
   "nbconvert_exporter": "python",
   "pygments_lexer": "ipython3",
   "version": "3.8.5"
  },
  "widgets": {
   "application/vnd.jupyter.widget-state+json": {
    "04654b426e764496b93a14d6f053b0ec": {
     "model_module": "@jupyter-widgets/controls",
     "model_module_version": "1.5.0",
     "model_name": "HBoxModel",
     "state": {
      "_dom_classes": [],
      "_model_module": "@jupyter-widgets/controls",
      "_model_module_version": "1.5.0",
      "_model_name": "HBoxModel",
      "_view_count": null,
      "_view_module": "@jupyter-widgets/controls",
      "_view_module_version": "1.5.0",
      "_view_name": "HBoxView",
      "box_style": "",
      "children": [
       "IPY_MODEL_1d26fdd77d1441b89c7386c13d1723d9",
       "IPY_MODEL_3d3b3fd84f884ada840608b179392e49",
       "IPY_MODEL_db84f07aa998485584bfa6299495c1d5"
      ],
      "layout": "IPY_MODEL_d0e872e190254ef5bedda0484499d8e0"
     }
    },
    "1139e1cdc8954535a875c01f129af41c": {
     "model_module": "@jupyter-widgets/controls",
     "model_module_version": "1.5.0",
     "model_name": "DescriptionStyleModel",
     "state": {
      "_model_module": "@jupyter-widgets/controls",
      "_model_module_version": "1.5.0",
      "_model_name": "DescriptionStyleModel",
      "_view_count": null,
      "_view_module": "@jupyter-widgets/base",
      "_view_module_version": "1.2.0",
      "_view_name": "StyleView",
      "description_width": ""
     }
    },
    "1d26fdd77d1441b89c7386c13d1723d9": {
     "model_module": "@jupyter-widgets/controls",
     "model_module_version": "1.5.0",
     "model_name": "HTMLModel",
     "state": {
      "_dom_classes": [],
      "_model_module": "@jupyter-widgets/controls",
      "_model_module_version": "1.5.0",
      "_model_name": "HTMLModel",
      "_view_count": null,
      "_view_module": "@jupyter-widgets/controls",
      "_view_module_version": "1.5.0",
      "_view_name": "HTMLView",
      "description": "",
      "description_tooltip": null,
      "layout": "IPY_MODEL_75bcbf4aec314824b17c84b5805396fa",
      "placeholder": "​",
      "style": "IPY_MODEL_1139e1cdc8954535a875c01f129af41c",
      "value": ""
     }
    },
    "32b860ea958a497dbf96fee84b47cf0a": {
     "model_module": "@jupyter-widgets/controls",
     "model_module_version": "1.5.0",
     "model_name": "ProgressStyleModel",
     "state": {
      "_model_module": "@jupyter-widgets/controls",
      "_model_module_version": "1.5.0",
      "_model_name": "ProgressStyleModel",
      "_view_count": null,
      "_view_module": "@jupyter-widgets/base",
      "_view_module_version": "1.2.0",
      "_view_name": "StyleView",
      "bar_color": null,
      "description_width": ""
     }
    },
    "3d3b3fd84f884ada840608b179392e49": {
     "model_module": "@jupyter-widgets/controls",
     "model_module_version": "1.5.0",
     "model_name": "FloatProgressModel",
     "state": {
      "_dom_classes": [],
      "_model_module": "@jupyter-widgets/controls",
      "_model_module_version": "1.5.0",
      "_model_name": "FloatProgressModel",
      "_view_count": null,
      "_view_module": "@jupyter-widgets/controls",
      "_view_module_version": "1.5.0",
      "_view_name": "ProgressView",
      "bar_style": "danger",
      "description": "",
      "description_tooltip": null,
      "layout": "IPY_MODEL_87048662410a49669f94d00960b6a8c4",
      "max": 1,
      "min": 0,
      "orientation": "horizontal",
      "style": "IPY_MODEL_32b860ea958a497dbf96fee84b47cf0a",
      "value": 1
     }
    },
    "75bcbf4aec314824b17c84b5805396fa": {
     "model_module": "@jupyter-widgets/base",
     "model_module_version": "1.2.0",
     "model_name": "LayoutModel",
     "state": {
      "_model_module": "@jupyter-widgets/base",
      "_model_module_version": "1.2.0",
      "_model_name": "LayoutModel",
      "_view_count": null,
      "_view_module": "@jupyter-widgets/base",
      "_view_module_version": "1.2.0",
      "_view_name": "LayoutView",
      "align_content": null,
      "align_items": null,
      "align_self": null,
      "border": null,
      "bottom": null,
      "display": null,
      "flex": null,
      "flex_flow": null,
      "grid_area": null,
      "grid_auto_columns": null,
      "grid_auto_flow": null,
      "grid_auto_rows": null,
      "grid_column": null,
      "grid_gap": null,
      "grid_row": null,
      "grid_template_areas": null,
      "grid_template_columns": null,
      "grid_template_rows": null,
      "height": null,
      "justify_content": null,
      "justify_items": null,
      "left": null,
      "margin": null,
      "max_height": null,
      "max_width": null,
      "min_height": null,
      "min_width": null,
      "object_fit": null,
      "object_position": null,
      "order": null,
      "overflow": null,
      "overflow_x": null,
      "overflow_y": null,
      "padding": null,
      "right": null,
      "top": null,
      "visibility": null,
      "width": null
     }
    },
    "79ae76b6071c4ccb85aa48f8c8eecd3c": {
     "model_module": "@jupyter-widgets/controls",
     "model_module_version": "1.5.0",
     "model_name": "DescriptionStyleModel",
     "state": {
      "_model_module": "@jupyter-widgets/controls",
      "_model_module_version": "1.5.0",
      "_model_name": "DescriptionStyleModel",
      "_view_count": null,
      "_view_module": "@jupyter-widgets/base",
      "_view_module_version": "1.2.0",
      "_view_name": "StyleView",
      "description_width": ""
     }
    },
    "87048662410a49669f94d00960b6a8c4": {
     "model_module": "@jupyter-widgets/base",
     "model_module_version": "1.2.0",
     "model_name": "LayoutModel",
     "state": {
      "_model_module": "@jupyter-widgets/base",
      "_model_module_version": "1.2.0",
      "_model_name": "LayoutModel",
      "_view_count": null,
      "_view_module": "@jupyter-widgets/base",
      "_view_module_version": "1.2.0",
      "_view_name": "LayoutView",
      "align_content": null,
      "align_items": null,
      "align_self": null,
      "border": null,
      "bottom": null,
      "display": null,
      "flex": null,
      "flex_flow": null,
      "grid_area": null,
      "grid_auto_columns": null,
      "grid_auto_flow": null,
      "grid_auto_rows": null,
      "grid_column": null,
      "grid_gap": null,
      "grid_row": null,
      "grid_template_areas": null,
      "grid_template_columns": null,
      "grid_template_rows": null,
      "height": null,
      "justify_content": null,
      "justify_items": null,
      "left": null,
      "margin": null,
      "max_height": null,
      "max_width": null,
      "min_height": null,
      "min_width": null,
      "object_fit": null,
      "object_position": null,
      "order": null,
      "overflow": null,
      "overflow_x": null,
      "overflow_y": null,
      "padding": null,
      "right": null,
      "top": null,
      "visibility": null,
      "width": "20px"
     }
    },
    "b38898bc663a4ed08e69bebdcef3f924": {
     "model_module": "@jupyter-widgets/base",
     "model_module_version": "1.2.0",
     "model_name": "LayoutModel",
     "state": {
      "_model_module": "@jupyter-widgets/base",
      "_model_module_version": "1.2.0",
      "_model_name": "LayoutModel",
      "_view_count": null,
      "_view_module": "@jupyter-widgets/base",
      "_view_module_version": "1.2.0",
      "_view_name": "LayoutView",
      "align_content": null,
      "align_items": null,
      "align_self": null,
      "border": null,
      "bottom": null,
      "display": null,
      "flex": null,
      "flex_flow": null,
      "grid_area": null,
      "grid_auto_columns": null,
      "grid_auto_flow": null,
      "grid_auto_rows": null,
      "grid_column": null,
      "grid_gap": null,
      "grid_row": null,
      "grid_template_areas": null,
      "grid_template_columns": null,
      "grid_template_rows": null,
      "height": null,
      "justify_content": null,
      "justify_items": null,
      "left": null,
      "margin": null,
      "max_height": null,
      "max_width": null,
      "min_height": null,
      "min_width": null,
      "object_fit": null,
      "object_position": null,
      "order": null,
      "overflow": null,
      "overflow_x": null,
      "overflow_y": null,
      "padding": null,
      "right": null,
      "top": null,
      "visibility": null,
      "width": null
     }
    },
    "d0e872e190254ef5bedda0484499d8e0": {
     "model_module": "@jupyter-widgets/base",
     "model_module_version": "1.2.0",
     "model_name": "LayoutModel",
     "state": {
      "_model_module": "@jupyter-widgets/base",
      "_model_module_version": "1.2.0",
      "_model_name": "LayoutModel",
      "_view_count": null,
      "_view_module": "@jupyter-widgets/base",
      "_view_module_version": "1.2.0",
      "_view_name": "LayoutView",
      "align_content": null,
      "align_items": null,
      "align_self": null,
      "border": null,
      "bottom": null,
      "display": null,
      "flex": null,
      "flex_flow": null,
      "grid_area": null,
      "grid_auto_columns": null,
      "grid_auto_flow": null,
      "grid_auto_rows": null,
      "grid_column": null,
      "grid_gap": null,
      "grid_row": null,
      "grid_template_areas": null,
      "grid_template_columns": null,
      "grid_template_rows": null,
      "height": null,
      "justify_content": null,
      "justify_items": null,
      "left": null,
      "margin": null,
      "max_height": null,
      "max_width": null,
      "min_height": null,
      "min_width": null,
      "object_fit": null,
      "object_position": null,
      "order": null,
      "overflow": null,
      "overflow_x": null,
      "overflow_y": null,
      "padding": null,
      "right": null,
      "top": null,
      "visibility": null,
      "width": null
     }
    },
    "db84f07aa998485584bfa6299495c1d5": {
     "model_module": "@jupyter-widgets/controls",
     "model_module_version": "1.5.0",
     "model_name": "HTMLModel",
     "state": {
      "_dom_classes": [],
      "_model_module": "@jupyter-widgets/controls",
      "_model_module_version": "1.5.0",
      "_model_name": "HTMLModel",
      "_view_count": null,
      "_view_module": "@jupyter-widgets/controls",
      "_view_module_version": "1.5.0",
      "_view_name": "HTMLView",
      "description": "",
      "description_tooltip": null,
      "layout": "IPY_MODEL_b38898bc663a4ed08e69bebdcef3f924",
      "placeholder": "​",
      "style": "IPY_MODEL_79ae76b6071c4ccb85aa48f8c8eecd3c",
      "value": " 100/? [00:03&lt;00:00, 23.43it/s]"
     }
    }
   }
  }
 },
 "nbformat": 4,
 "nbformat_minor": 1
}
